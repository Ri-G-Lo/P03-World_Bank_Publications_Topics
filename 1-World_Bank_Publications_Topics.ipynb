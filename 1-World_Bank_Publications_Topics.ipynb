{
 "cells": [
  {
   "cell_type": "markdown",
   "metadata": {},
   "source": [
    "## DRIVENDATA'S COMPETITION: “Identifying Topics in World Bank Publications” (Nov 2019)\n"
   ]
  },
  {
   "cell_type": "markdown",
   "metadata": {},
   "source": [
    "### 1. EXPLORING THE DATA"
   ]
  },
  {
   "cell_type": "markdown",
   "metadata": {},
   "source": [
    "### 1.1 Loading data"
   ]
  },
  {
   "cell_type": "code",
   "execution_count": 1,
   "metadata": {},
   "outputs": [],
   "source": [
    "# Importing packages needed\n",
    "import pandas as pd\n",
    "import numpy as np"
   ]
  },
  {
   "cell_type": "code",
   "execution_count": 2,
   "metadata": {},
   "outputs": [],
   "source": [
    "# Loading the data to be used for model training\n",
    "X = pd.read_csv('train_values.csv', index_col=0)\n",
    "y = pd.read_csv('train_labels.csv', index_col=0)\n",
    "\n",
    "# Loading the data to be used for prediction (Competition's submission) \n",
    "X_cmptt_pred = pd.read_csv('test_values.csv', index_col=0)"
   ]
  },
  {
   "cell_type": "markdown",
   "metadata": {},
   "source": [
    "### 1.2 Data Exploration"
   ]
  },
  {
   "cell_type": "markdown",
   "metadata": {},
   "source": [
    "#### 1.2.1 Features"
   ]
  },
  {
   "cell_type": "code",
   "execution_count": 3,
   "metadata": {},
   "outputs": [
    {
     "name": "stdout",
     "output_type": "stream",
     "text": [
      "<class 'pandas.core.frame.DataFrame'>\n",
      "Int64Index: 18687 entries, 0 to 18686\n",
      "Data columns (total 1 columns):\n",
      "doc_text    18687 non-null object\n",
      "dtypes: object(1)\n",
      "memory usage: 292.0+ KB\n"
     ]
    }
   ],
   "source": [
    "# Checking data summary \n",
    "X.info()"
   ]
  },
  {
   "cell_type": "code",
   "execution_count": 4,
   "metadata": {},
   "outputs": [
    {
     "data": {
      "text/html": [
       "<div>\n",
       "<style scoped>\n",
       "    .dataframe tbody tr th:only-of-type {\n",
       "        vertical-align: middle;\n",
       "    }\n",
       "\n",
       "    .dataframe tbody tr th {\n",
       "        vertical-align: top;\n",
       "    }\n",
       "\n",
       "    .dataframe thead th {\n",
       "        text-align: right;\n",
       "    }\n",
       "</style>\n",
       "<table border=\"1\" class=\"dataframe\">\n",
       "  <thead>\n",
       "    <tr style=\"text-align: right;\">\n",
       "      <th></th>\n",
       "      <th>doc_text</th>\n",
       "    </tr>\n",
       "    <tr>\n",
       "      <th>row_id</th>\n",
       "      <th></th>\n",
       "    </tr>\n",
       "  </thead>\n",
       "  <tbody>\n",
       "    <tr>\n",
       "      <th>0</th>\n",
       "      <td>84327 v2\\nThe findings, interpretations, and c...</td>\n",
       "    </tr>\n",
       "    <tr>\n",
       "      <th>1</th>\n",
       "      <td>...</td>\n",
       "    </tr>\n",
       "    <tr>\n",
       "      <th>2</th>\n",
       "      <td>78156\\n\\n\\n\\n\\nRisk...</td>\n",
       "    </tr>\n",
       "    <tr>\n",
       "      <th>3</th>\n",
       "      <td>...</td>\n",
       "    </tr>\n",
       "    <tr>\n",
       "      <th>4</th>\n",
       "      <td>...</td>\n",
       "    </tr>\n",
       "  </tbody>\n",
       "</table>\n",
       "</div>"
      ],
      "text/plain": [
       "                                                 doc_text\n",
       "row_id                                                   \n",
       "0       84327 v2\\nThe findings, interpretations, and c...\n",
       "1                                                     ...\n",
       "2                                  78156\\n\\n\\n\\n\\nRisk...\n",
       "3                                                     ...\n",
       "4                                                     ..."
      ]
     },
     "execution_count": 4,
     "metadata": {},
     "output_type": "execute_result"
    }
   ],
   "source": [
    "# Getting a glimpse of data content\n",
    "X.head()"
   ]
  },
  {
   "cell_type": "markdown",
   "metadata": {},
   "source": [
    "#### 1.2.2 Labels"
   ]
  },
  {
   "cell_type": "code",
   "execution_count": 5,
   "metadata": {},
   "outputs": [
    {
     "name": "stdout",
     "output_type": "stream",
     "text": [
      "<class 'pandas.core.frame.DataFrame'>\n",
      "Int64Index: 18687 entries, 0 to 18686\n",
      "Data columns (total 24 columns):\n",
      "information_and_communication_technologies    18687 non-null int64\n",
      "governance                                    18687 non-null int64\n",
      "urban_development                             18687 non-null int64\n",
      "law_and_development                           18687 non-null int64\n",
      "public_sector_development                     18687 non-null int64\n",
      "agriculture                                   18687 non-null int64\n",
      "communities_and_human_settlements             18687 non-null int64\n",
      "health_and_nutrition_and_population           18687 non-null int64\n",
      "culture_and_development                       18687 non-null int64\n",
      "social_protections_and_labor                  18687 non-null int64\n",
      "international_economics_and_trade             18687 non-null int64\n",
      "conflict_and_development                      18687 non-null int64\n",
      "science_and_technology_development            18687 non-null int64\n",
      "rural_development                             18687 non-null int64\n",
      "poverty_reduction                             18687 non-null int64\n",
      "social_development                            18687 non-null int64\n",
      "education                                     18687 non-null int64\n",
      "transport                                     18687 non-null int64\n",
      "gender                                        18687 non-null int64\n",
      "infrastructure_economics_and_finance          18687 non-null int64\n",
      "energy_and_environment                        18687 non-null int64\n",
      "finance_and_development                       18687 non-null int64\n",
      "macroeconomics_and_growth                     18687 non-null int64\n",
      "water                                         18687 non-null int64\n",
      "dtypes: int64(24)\n",
      "memory usage: 3.6 MB\n"
     ]
    }
   ],
   "source": [
    "# Checking data summary\n",
    "y.info()"
   ]
  },
  {
   "cell_type": "code",
   "execution_count": 6,
   "metadata": {},
   "outputs": [
    {
     "data": {
      "text/html": [
       "<div>\n",
       "<style scoped>\n",
       "    .dataframe tbody tr th:only-of-type {\n",
       "        vertical-align: middle;\n",
       "    }\n",
       "\n",
       "    .dataframe tbody tr th {\n",
       "        vertical-align: top;\n",
       "    }\n",
       "\n",
       "    .dataframe thead th {\n",
       "        text-align: right;\n",
       "    }\n",
       "</style>\n",
       "<table border=\"1\" class=\"dataframe\">\n",
       "  <thead>\n",
       "    <tr style=\"text-align: right;\">\n",
       "      <th></th>\n",
       "      <th>information_and_communication_technologies</th>\n",
       "      <th>governance</th>\n",
       "      <th>urban_development</th>\n",
       "      <th>law_and_development</th>\n",
       "      <th>public_sector_development</th>\n",
       "      <th>agriculture</th>\n",
       "      <th>communities_and_human_settlements</th>\n",
       "      <th>health_and_nutrition_and_population</th>\n",
       "      <th>culture_and_development</th>\n",
       "      <th>social_protections_and_labor</th>\n",
       "      <th>...</th>\n",
       "      <th>poverty_reduction</th>\n",
       "      <th>social_development</th>\n",
       "      <th>education</th>\n",
       "      <th>transport</th>\n",
       "      <th>gender</th>\n",
       "      <th>infrastructure_economics_and_finance</th>\n",
       "      <th>energy_and_environment</th>\n",
       "      <th>finance_and_development</th>\n",
       "      <th>macroeconomics_and_growth</th>\n",
       "      <th>water</th>\n",
       "    </tr>\n",
       "    <tr>\n",
       "      <th>row_id</th>\n",
       "      <th></th>\n",
       "      <th></th>\n",
       "      <th></th>\n",
       "      <th></th>\n",
       "      <th></th>\n",
       "      <th></th>\n",
       "      <th></th>\n",
       "      <th></th>\n",
       "      <th></th>\n",
       "      <th></th>\n",
       "      <th></th>\n",
       "      <th></th>\n",
       "      <th></th>\n",
       "      <th></th>\n",
       "      <th></th>\n",
       "      <th></th>\n",
       "      <th></th>\n",
       "      <th></th>\n",
       "      <th></th>\n",
       "      <th></th>\n",
       "      <th></th>\n",
       "    </tr>\n",
       "  </thead>\n",
       "  <tbody>\n",
       "    <tr>\n",
       "      <th>0</th>\n",
       "      <td>1</td>\n",
       "      <td>0</td>\n",
       "      <td>0</td>\n",
       "      <td>0</td>\n",
       "      <td>0</td>\n",
       "      <td>0</td>\n",
       "      <td>0</td>\n",
       "      <td>1</td>\n",
       "      <td>0</td>\n",
       "      <td>0</td>\n",
       "      <td>...</td>\n",
       "      <td>1</td>\n",
       "      <td>0</td>\n",
       "      <td>0</td>\n",
       "      <td>0</td>\n",
       "      <td>0</td>\n",
       "      <td>0</td>\n",
       "      <td>0</td>\n",
       "      <td>1</td>\n",
       "      <td>1</td>\n",
       "      <td>0</td>\n",
       "    </tr>\n",
       "    <tr>\n",
       "      <th>1</th>\n",
       "      <td>0</td>\n",
       "      <td>0</td>\n",
       "      <td>0</td>\n",
       "      <td>0</td>\n",
       "      <td>0</td>\n",
       "      <td>0</td>\n",
       "      <td>0</td>\n",
       "      <td>0</td>\n",
       "      <td>0</td>\n",
       "      <td>0</td>\n",
       "      <td>...</td>\n",
       "      <td>0</td>\n",
       "      <td>0</td>\n",
       "      <td>0</td>\n",
       "      <td>0</td>\n",
       "      <td>0</td>\n",
       "      <td>0</td>\n",
       "      <td>0</td>\n",
       "      <td>1</td>\n",
       "      <td>1</td>\n",
       "      <td>0</td>\n",
       "    </tr>\n",
       "    <tr>\n",
       "      <th>2</th>\n",
       "      <td>0</td>\n",
       "      <td>0</td>\n",
       "      <td>0</td>\n",
       "      <td>0</td>\n",
       "      <td>0</td>\n",
       "      <td>0</td>\n",
       "      <td>0</td>\n",
       "      <td>0</td>\n",
       "      <td>0</td>\n",
       "      <td>1</td>\n",
       "      <td>...</td>\n",
       "      <td>0</td>\n",
       "      <td>0</td>\n",
       "      <td>0</td>\n",
       "      <td>0</td>\n",
       "      <td>0</td>\n",
       "      <td>0</td>\n",
       "      <td>0</td>\n",
       "      <td>1</td>\n",
       "      <td>0</td>\n",
       "      <td>0</td>\n",
       "    </tr>\n",
       "    <tr>\n",
       "      <th>3</th>\n",
       "      <td>0</td>\n",
       "      <td>0</td>\n",
       "      <td>0</td>\n",
       "      <td>0</td>\n",
       "      <td>0</td>\n",
       "      <td>0</td>\n",
       "      <td>0</td>\n",
       "      <td>0</td>\n",
       "      <td>0</td>\n",
       "      <td>0</td>\n",
       "      <td>...</td>\n",
       "      <td>0</td>\n",
       "      <td>0</td>\n",
       "      <td>0</td>\n",
       "      <td>0</td>\n",
       "      <td>0</td>\n",
       "      <td>0</td>\n",
       "      <td>0</td>\n",
       "      <td>1</td>\n",
       "      <td>0</td>\n",
       "      <td>0</td>\n",
       "    </tr>\n",
       "    <tr>\n",
       "      <th>4</th>\n",
       "      <td>0</td>\n",
       "      <td>0</td>\n",
       "      <td>0</td>\n",
       "      <td>1</td>\n",
       "      <td>0</td>\n",
       "      <td>0</td>\n",
       "      <td>0</td>\n",
       "      <td>0</td>\n",
       "      <td>0</td>\n",
       "      <td>0</td>\n",
       "      <td>...</td>\n",
       "      <td>0</td>\n",
       "      <td>0</td>\n",
       "      <td>0</td>\n",
       "      <td>0</td>\n",
       "      <td>0</td>\n",
       "      <td>0</td>\n",
       "      <td>0</td>\n",
       "      <td>0</td>\n",
       "      <td>1</td>\n",
       "      <td>0</td>\n",
       "    </tr>\n",
       "  </tbody>\n",
       "</table>\n",
       "<p>5 rows × 24 columns</p>\n",
       "</div>"
      ],
      "text/plain": [
       "        information_and_communication_technologies  governance  \\\n",
       "row_id                                                           \n",
       "0                                                1           0   \n",
       "1                                                0           0   \n",
       "2                                                0           0   \n",
       "3                                                0           0   \n",
       "4                                                0           0   \n",
       "\n",
       "        urban_development  law_and_development  public_sector_development  \\\n",
       "row_id                                                                      \n",
       "0                       0                    0                          0   \n",
       "1                       0                    0                          0   \n",
       "2                       0                    0                          0   \n",
       "3                       0                    0                          0   \n",
       "4                       0                    1                          0   \n",
       "\n",
       "        agriculture  communities_and_human_settlements  \\\n",
       "row_id                                                   \n",
       "0                 0                                  0   \n",
       "1                 0                                  0   \n",
       "2                 0                                  0   \n",
       "3                 0                                  0   \n",
       "4                 0                                  0   \n",
       "\n",
       "        health_and_nutrition_and_population  culture_and_development  \\\n",
       "row_id                                                                 \n",
       "0                                         1                        0   \n",
       "1                                         0                        0   \n",
       "2                                         0                        0   \n",
       "3                                         0                        0   \n",
       "4                                         0                        0   \n",
       "\n",
       "        social_protections_and_labor  ...  poverty_reduction  \\\n",
       "row_id                                ...                      \n",
       "0                                  0  ...                  1   \n",
       "1                                  0  ...                  0   \n",
       "2                                  1  ...                  0   \n",
       "3                                  0  ...                  0   \n",
       "4                                  0  ...                  0   \n",
       "\n",
       "        social_development  education  transport  gender  \\\n",
       "row_id                                                     \n",
       "0                        0          0          0       0   \n",
       "1                        0          0          0       0   \n",
       "2                        0          0          0       0   \n",
       "3                        0          0          0       0   \n",
       "4                        0          0          0       0   \n",
       "\n",
       "        infrastructure_economics_and_finance  energy_and_environment  \\\n",
       "row_id                                                                 \n",
       "0                                          0                       0   \n",
       "1                                          0                       0   \n",
       "2                                          0                       0   \n",
       "3                                          0                       0   \n",
       "4                                          0                       0   \n",
       "\n",
       "        finance_and_development  macroeconomics_and_growth  water  \n",
       "row_id                                                             \n",
       "0                             1                          1      0  \n",
       "1                             1                          1      0  \n",
       "2                             1                          0      0  \n",
       "3                             1                          0      0  \n",
       "4                             0                          1      0  \n",
       "\n",
       "[5 rows x 24 columns]"
      ]
     },
     "execution_count": 6,
     "metadata": {},
     "output_type": "execute_result"
    }
   ],
   "source": [
    "# Getting a glimpse of data content\n",
    "y.head()"
   ]
  },
  {
   "cell_type": "code",
   "execution_count": 7,
   "metadata": {},
   "outputs": [
    {
     "data": {
      "text/html": [
       "<div>\n",
       "<style scoped>\n",
       "    .dataframe tbody tr th:only-of-type {\n",
       "        vertical-align: middle;\n",
       "    }\n",
       "\n",
       "    .dataframe tbody tr th {\n",
       "        vertical-align: top;\n",
       "    }\n",
       "\n",
       "    .dataframe thead th {\n",
       "        text-align: right;\n",
       "    }\n",
       "</style>\n",
       "<table border=\"1\" class=\"dataframe\">\n",
       "  <thead>\n",
       "    <tr style=\"text-align: right;\">\n",
       "      <th></th>\n",
       "      <th>information_and_communication_technologies</th>\n",
       "      <th>governance</th>\n",
       "      <th>urban_development</th>\n",
       "      <th>law_and_development</th>\n",
       "      <th>public_sector_development</th>\n",
       "      <th>agriculture</th>\n",
       "      <th>communities_and_human_settlements</th>\n",
       "      <th>health_and_nutrition_and_population</th>\n",
       "      <th>culture_and_development</th>\n",
       "      <th>social_protections_and_labor</th>\n",
       "      <th>...</th>\n",
       "      <th>poverty_reduction</th>\n",
       "      <th>social_development</th>\n",
       "      <th>education</th>\n",
       "      <th>transport</th>\n",
       "      <th>gender</th>\n",
       "      <th>infrastructure_economics_and_finance</th>\n",
       "      <th>energy_and_environment</th>\n",
       "      <th>finance_and_development</th>\n",
       "      <th>macroeconomics_and_growth</th>\n",
       "      <th>water</th>\n",
       "    </tr>\n",
       "  </thead>\n",
       "  <tbody>\n",
       "    <tr>\n",
       "      <th>count</th>\n",
       "      <td>18687.000000</td>\n",
       "      <td>18687.000000</td>\n",
       "      <td>18687.000000</td>\n",
       "      <td>18687.000000</td>\n",
       "      <td>18687.000000</td>\n",
       "      <td>18687.000000</td>\n",
       "      <td>18687.000000</td>\n",
       "      <td>18687.000000</td>\n",
       "      <td>18687.000000</td>\n",
       "      <td>18687.000000</td>\n",
       "      <td>...</td>\n",
       "      <td>18687.000000</td>\n",
       "      <td>18687.000000</td>\n",
       "      <td>18687.000000</td>\n",
       "      <td>18687.000000</td>\n",
       "      <td>18687.000000</td>\n",
       "      <td>18687.000000</td>\n",
       "      <td>18687.000000</td>\n",
       "      <td>18687.000000</td>\n",
       "      <td>18687.000000</td>\n",
       "      <td>18687.000000</td>\n",
       "    </tr>\n",
       "    <tr>\n",
       "      <th>mean</th>\n",
       "      <td>0.041954</td>\n",
       "      <td>0.088992</td>\n",
       "      <td>0.074651</td>\n",
       "      <td>0.129395</td>\n",
       "      <td>0.141382</td>\n",
       "      <td>0.062824</td>\n",
       "      <td>0.085996</td>\n",
       "      <td>0.181784</td>\n",
       "      <td>0.016375</td>\n",
       "      <td>0.122545</td>\n",
       "      <td>...</td>\n",
       "      <td>0.138064</td>\n",
       "      <td>0.086370</td>\n",
       "      <td>0.124311</td>\n",
       "      <td>0.082517</td>\n",
       "      <td>0.057045</td>\n",
       "      <td>0.017927</td>\n",
       "      <td>0.175309</td>\n",
       "      <td>0.471183</td>\n",
       "      <td>0.425911</td>\n",
       "      <td>0.086638</td>\n",
       "    </tr>\n",
       "    <tr>\n",
       "      <th>std</th>\n",
       "      <td>0.200490</td>\n",
       "      <td>0.284740</td>\n",
       "      <td>0.262834</td>\n",
       "      <td>0.335645</td>\n",
       "      <td>0.348424</td>\n",
       "      <td>0.242653</td>\n",
       "      <td>0.280365</td>\n",
       "      <td>0.385677</td>\n",
       "      <td>0.126916</td>\n",
       "      <td>0.327923</td>\n",
       "      <td>...</td>\n",
       "      <td>0.344976</td>\n",
       "      <td>0.280917</td>\n",
       "      <td>0.329945</td>\n",
       "      <td>0.275159</td>\n",
       "      <td>0.231935</td>\n",
       "      <td>0.132689</td>\n",
       "      <td>0.380241</td>\n",
       "      <td>0.499182</td>\n",
       "      <td>0.494494</td>\n",
       "      <td>0.281311</td>\n",
       "    </tr>\n",
       "    <tr>\n",
       "      <th>min</th>\n",
       "      <td>0.000000</td>\n",
       "      <td>0.000000</td>\n",
       "      <td>0.000000</td>\n",
       "      <td>0.000000</td>\n",
       "      <td>0.000000</td>\n",
       "      <td>0.000000</td>\n",
       "      <td>0.000000</td>\n",
       "      <td>0.000000</td>\n",
       "      <td>0.000000</td>\n",
       "      <td>0.000000</td>\n",
       "      <td>...</td>\n",
       "      <td>0.000000</td>\n",
       "      <td>0.000000</td>\n",
       "      <td>0.000000</td>\n",
       "      <td>0.000000</td>\n",
       "      <td>0.000000</td>\n",
       "      <td>0.000000</td>\n",
       "      <td>0.000000</td>\n",
       "      <td>0.000000</td>\n",
       "      <td>0.000000</td>\n",
       "      <td>0.000000</td>\n",
       "    </tr>\n",
       "    <tr>\n",
       "      <th>25%</th>\n",
       "      <td>0.000000</td>\n",
       "      <td>0.000000</td>\n",
       "      <td>0.000000</td>\n",
       "      <td>0.000000</td>\n",
       "      <td>0.000000</td>\n",
       "      <td>0.000000</td>\n",
       "      <td>0.000000</td>\n",
       "      <td>0.000000</td>\n",
       "      <td>0.000000</td>\n",
       "      <td>0.000000</td>\n",
       "      <td>...</td>\n",
       "      <td>0.000000</td>\n",
       "      <td>0.000000</td>\n",
       "      <td>0.000000</td>\n",
       "      <td>0.000000</td>\n",
       "      <td>0.000000</td>\n",
       "      <td>0.000000</td>\n",
       "      <td>0.000000</td>\n",
       "      <td>0.000000</td>\n",
       "      <td>0.000000</td>\n",
       "      <td>0.000000</td>\n",
       "    </tr>\n",
       "    <tr>\n",
       "      <th>50%</th>\n",
       "      <td>0.000000</td>\n",
       "      <td>0.000000</td>\n",
       "      <td>0.000000</td>\n",
       "      <td>0.000000</td>\n",
       "      <td>0.000000</td>\n",
       "      <td>0.000000</td>\n",
       "      <td>0.000000</td>\n",
       "      <td>0.000000</td>\n",
       "      <td>0.000000</td>\n",
       "      <td>0.000000</td>\n",
       "      <td>...</td>\n",
       "      <td>0.000000</td>\n",
       "      <td>0.000000</td>\n",
       "      <td>0.000000</td>\n",
       "      <td>0.000000</td>\n",
       "      <td>0.000000</td>\n",
       "      <td>0.000000</td>\n",
       "      <td>0.000000</td>\n",
       "      <td>0.000000</td>\n",
       "      <td>0.000000</td>\n",
       "      <td>0.000000</td>\n",
       "    </tr>\n",
       "    <tr>\n",
       "      <th>75%</th>\n",
       "      <td>0.000000</td>\n",
       "      <td>0.000000</td>\n",
       "      <td>0.000000</td>\n",
       "      <td>0.000000</td>\n",
       "      <td>0.000000</td>\n",
       "      <td>0.000000</td>\n",
       "      <td>0.000000</td>\n",
       "      <td>0.000000</td>\n",
       "      <td>0.000000</td>\n",
       "      <td>0.000000</td>\n",
       "      <td>...</td>\n",
       "      <td>0.000000</td>\n",
       "      <td>0.000000</td>\n",
       "      <td>0.000000</td>\n",
       "      <td>0.000000</td>\n",
       "      <td>0.000000</td>\n",
       "      <td>0.000000</td>\n",
       "      <td>0.000000</td>\n",
       "      <td>1.000000</td>\n",
       "      <td>1.000000</td>\n",
       "      <td>0.000000</td>\n",
       "    </tr>\n",
       "    <tr>\n",
       "      <th>max</th>\n",
       "      <td>1.000000</td>\n",
       "      <td>1.000000</td>\n",
       "      <td>1.000000</td>\n",
       "      <td>1.000000</td>\n",
       "      <td>1.000000</td>\n",
       "      <td>1.000000</td>\n",
       "      <td>1.000000</td>\n",
       "      <td>1.000000</td>\n",
       "      <td>1.000000</td>\n",
       "      <td>1.000000</td>\n",
       "      <td>...</td>\n",
       "      <td>1.000000</td>\n",
       "      <td>1.000000</td>\n",
       "      <td>1.000000</td>\n",
       "      <td>1.000000</td>\n",
       "      <td>1.000000</td>\n",
       "      <td>1.000000</td>\n",
       "      <td>1.000000</td>\n",
       "      <td>1.000000</td>\n",
       "      <td>1.000000</td>\n",
       "      <td>1.000000</td>\n",
       "    </tr>\n",
       "  </tbody>\n",
       "</table>\n",
       "<p>8 rows × 24 columns</p>\n",
       "</div>"
      ],
      "text/plain": [
       "       information_and_communication_technologies    governance  \\\n",
       "count                                18687.000000  18687.000000   \n",
       "mean                                     0.041954      0.088992   \n",
       "std                                      0.200490      0.284740   \n",
       "min                                      0.000000      0.000000   \n",
       "25%                                      0.000000      0.000000   \n",
       "50%                                      0.000000      0.000000   \n",
       "75%                                      0.000000      0.000000   \n",
       "max                                      1.000000      1.000000   \n",
       "\n",
       "       urban_development  law_and_development  public_sector_development  \\\n",
       "count       18687.000000         18687.000000               18687.000000   \n",
       "mean            0.074651             0.129395                   0.141382   \n",
       "std             0.262834             0.335645                   0.348424   \n",
       "min             0.000000             0.000000                   0.000000   \n",
       "25%             0.000000             0.000000                   0.000000   \n",
       "50%             0.000000             0.000000                   0.000000   \n",
       "75%             0.000000             0.000000                   0.000000   \n",
       "max             1.000000             1.000000                   1.000000   \n",
       "\n",
       "        agriculture  communities_and_human_settlements  \\\n",
       "count  18687.000000                       18687.000000   \n",
       "mean       0.062824                           0.085996   \n",
       "std        0.242653                           0.280365   \n",
       "min        0.000000                           0.000000   \n",
       "25%        0.000000                           0.000000   \n",
       "50%        0.000000                           0.000000   \n",
       "75%        0.000000                           0.000000   \n",
       "max        1.000000                           1.000000   \n",
       "\n",
       "       health_and_nutrition_and_population  culture_and_development  \\\n",
       "count                         18687.000000             18687.000000   \n",
       "mean                              0.181784                 0.016375   \n",
       "std                               0.385677                 0.126916   \n",
       "min                               0.000000                 0.000000   \n",
       "25%                               0.000000                 0.000000   \n",
       "50%                               0.000000                 0.000000   \n",
       "75%                               0.000000                 0.000000   \n",
       "max                               1.000000                 1.000000   \n",
       "\n",
       "       social_protections_and_labor  ...  poverty_reduction  \\\n",
       "count                  18687.000000  ...       18687.000000   \n",
       "mean                       0.122545  ...           0.138064   \n",
       "std                        0.327923  ...           0.344976   \n",
       "min                        0.000000  ...           0.000000   \n",
       "25%                        0.000000  ...           0.000000   \n",
       "50%                        0.000000  ...           0.000000   \n",
       "75%                        0.000000  ...           0.000000   \n",
       "max                        1.000000  ...           1.000000   \n",
       "\n",
       "       social_development     education     transport        gender  \\\n",
       "count        18687.000000  18687.000000  18687.000000  18687.000000   \n",
       "mean             0.086370      0.124311      0.082517      0.057045   \n",
       "std              0.280917      0.329945      0.275159      0.231935   \n",
       "min              0.000000      0.000000      0.000000      0.000000   \n",
       "25%              0.000000      0.000000      0.000000      0.000000   \n",
       "50%              0.000000      0.000000      0.000000      0.000000   \n",
       "75%              0.000000      0.000000      0.000000      0.000000   \n",
       "max              1.000000      1.000000      1.000000      1.000000   \n",
       "\n",
       "       infrastructure_economics_and_finance  energy_and_environment  \\\n",
       "count                          18687.000000            18687.000000   \n",
       "mean                               0.017927                0.175309   \n",
       "std                                0.132689                0.380241   \n",
       "min                                0.000000                0.000000   \n",
       "25%                                0.000000                0.000000   \n",
       "50%                                0.000000                0.000000   \n",
       "75%                                0.000000                0.000000   \n",
       "max                                1.000000                1.000000   \n",
       "\n",
       "       finance_and_development  macroeconomics_and_growth         water  \n",
       "count             18687.000000               18687.000000  18687.000000  \n",
       "mean                  0.471183                   0.425911      0.086638  \n",
       "std                   0.499182                   0.494494      0.281311  \n",
       "min                   0.000000                   0.000000      0.000000  \n",
       "25%                   0.000000                   0.000000      0.000000  \n",
       "50%                   0.000000                   0.000000      0.000000  \n",
       "75%                   1.000000                   1.000000      0.000000  \n",
       "max                   1.000000                   1.000000      1.000000  \n",
       "\n",
       "[8 rows x 24 columns]"
      ]
     },
     "execution_count": 7,
     "metadata": {},
     "output_type": "execute_result"
    }
   ],
   "source": [
    "# Checking on label data summary statistics\n",
    "y.describe()"
   ]
  },
  {
   "cell_type": "code",
   "execution_count": 8,
   "metadata": {},
   "outputs": [
    {
     "name": "stdout",
     "output_type": "stream",
     "text": [
      "information_and_communication_technologies \t [0 1]\n",
      "0    17903\n",
      "1      784\n",
      "Name: information_and_communication_technologies, dtype: int64\n",
      "governance \t [0 1]\n",
      "0    17024\n",
      "1     1663\n",
      "Name: governance, dtype: int64\n",
      "urban_development \t [0 1]\n",
      "0    17292\n",
      "1     1395\n",
      "Name: urban_development, dtype: int64\n",
      "law_and_development \t [0 1]\n",
      "0    16269\n",
      "1     2418\n",
      "Name: law_and_development, dtype: int64\n",
      "public_sector_development \t [0 1]\n",
      "0    16045\n",
      "1     2642\n",
      "Name: public_sector_development, dtype: int64\n",
      "agriculture \t [0 1]\n",
      "0    17513\n",
      "1     1174\n",
      "Name: agriculture, dtype: int64\n",
      "communities_and_human_settlements \t [0 1]\n",
      "0    17080\n",
      "1     1607\n",
      "Name: communities_and_human_settlements, dtype: int64\n",
      "health_and_nutrition_and_population \t [0 1]\n",
      "0    15290\n",
      "1     3397\n",
      "Name: health_and_nutrition_and_population, dtype: int64\n",
      "culture_and_development \t [0 1]\n",
      "0    18381\n",
      "1      306\n",
      "Name: culture_and_development, dtype: int64\n",
      "social_protections_and_labor \t [0 1]\n",
      "0    16397\n",
      "1     2290\n",
      "Name: social_protections_and_labor, dtype: int64\n",
      "international_economics_and_trade \t [0 1]\n",
      "0    16268\n",
      "1     2419\n",
      "Name: international_economics_and_trade, dtype: int64\n",
      "conflict_and_development \t [0 1]\n",
      "0    17868\n",
      "1      819\n",
      "Name: conflict_and_development, dtype: int64\n",
      "science_and_technology_development \t [0 1]\n",
      "0    17812\n",
      "1      875\n",
      "Name: science_and_technology_development, dtype: int64\n",
      "rural_development \t [0 1]\n",
      "0    16894\n",
      "1     1793\n",
      "Name: rural_development, dtype: int64\n",
      "poverty_reduction \t [0 1]\n",
      "0    16107\n",
      "1     2580\n",
      "Name: poverty_reduction, dtype: int64\n",
      "social_development \t [0 1]\n",
      "0    17073\n",
      "1     1614\n",
      "Name: social_development, dtype: int64\n",
      "education \t [0 1]\n",
      "0    16364\n",
      "1     2323\n",
      "Name: education, dtype: int64\n",
      "transport \t [0 1]\n",
      "0    17145\n",
      "1     1542\n",
      "Name: transport, dtype: int64\n",
      "gender \t [0 1]\n",
      "0    17621\n",
      "1     1066\n",
      "Name: gender, dtype: int64\n",
      "infrastructure_economics_and_finance \t [0 1]\n",
      "0    18352\n",
      "1      335\n",
      "Name: infrastructure_economics_and_finance, dtype: int64\n",
      "energy_and_environment \t [0 1]\n",
      "0    15411\n",
      "1     3276\n",
      "Name: energy_and_environment, dtype: int64\n",
      "finance_and_development \t [0 1]\n",
      "0    9882\n",
      "1    8805\n",
      "Name: finance_and_development, dtype: int64\n",
      "macroeconomics_and_growth \t [0 1]\n",
      "0    10728\n",
      "1     7959\n",
      "Name: macroeconomics_and_growth, dtype: int64\n",
      "water \t [0 1]\n",
      "0    17068\n",
      "1     1619\n",
      "Name: water, dtype: int64\n"
     ]
    }
   ],
   "source": [
    "# Checking unique values and their frequency\n",
    "for col in list(y):\n",
    "    print(col, '\\t', np.sort(y[col].unique()))\n",
    "    print(y[col].value_counts())"
   ]
  },
  {
   "cell_type": "markdown",
   "metadata": {},
   "source": [
    "#### 1.2.3 \"Test\" data"
   ]
  },
  {
   "cell_type": "code",
   "execution_count": 9,
   "metadata": {},
   "outputs": [
    {
     "name": "stdout",
     "output_type": "stream",
     "text": [
      "<class 'pandas.core.frame.DataFrame'>\n",
      "Int64Index: 18699 entries, 0 to 18698\n",
      "Data columns (total 1 columns):\n",
      "doc_text    18699 non-null object\n",
      "dtypes: object(1)\n",
      "memory usage: 292.2+ KB\n"
     ]
    }
   ],
   "source": [
    "# As with feature and label data above, checking the data summary for the values to be predicted \n",
    "X_cmptt_pred.info()"
   ]
  },
  {
   "cell_type": "code",
   "execution_count": 10,
   "metadata": {},
   "outputs": [
    {
     "data": {
      "text/html": [
       "<div>\n",
       "<style scoped>\n",
       "    .dataframe tbody tr th:only-of-type {\n",
       "        vertical-align: middle;\n",
       "    }\n",
       "\n",
       "    .dataframe tbody tr th {\n",
       "        vertical-align: top;\n",
       "    }\n",
       "\n",
       "    .dataframe thead th {\n",
       "        text-align: right;\n",
       "    }\n",
       "</style>\n",
       "<table border=\"1\" class=\"dataframe\">\n",
       "  <thead>\n",
       "    <tr style=\"text-align: right;\">\n",
       "      <th></th>\n",
       "      <th>doc_text</th>\n",
       "    </tr>\n",
       "    <tr>\n",
       "      <th>row_id</th>\n",
       "      <th></th>\n",
       "    </tr>\n",
       "  </thead>\n",
       "  <tbody>\n",
       "    <tr>\n",
       "      <th>0</th>\n",
       "      <td>...</td>\n",
       "    </tr>\n",
       "    <tr>\n",
       "      <th>1</th>\n",
       "      <td>EARLY LEARNING PARTNERSHIP\\n\\n\\n\\n\\n E L P\\n ...</td>\n",
       "    </tr>\n",
       "    <tr>\n",
       "      <th>2</th>\n",
       "      <td>...</td>\n",
       "    </tr>\n",
       "    <tr>\n",
       "      <th>3</th>\n",
       "      <td>...</td>\n",
       "    </tr>\n",
       "    <tr>\n",
       "      <th>4</th>\n",
       "      <td>...</td>\n",
       "    </tr>\n",
       "  </tbody>\n",
       "</table>\n",
       "</div>"
      ],
      "text/plain": [
       "                                                 doc_text\n",
       "row_id                                                   \n",
       "0                                                     ...\n",
       "1        EARLY LEARNING PARTNERSHIP\\n\\n\\n\\n\\n E L P\\n ...\n",
       "2                                                     ...\n",
       "3                                                     ...\n",
       "4                                                     ..."
      ]
     },
     "execution_count": 10,
     "metadata": {},
     "output_type": "execute_result"
    }
   ],
   "source": [
    "# Again, taking a look into its content\n",
    "X_cmptt_pred.head()"
   ]
  },
  {
   "cell_type": "markdown",
   "metadata": {},
   "source": [
    "## 2. IMPORTED PYTHON OBJECTS"
   ]
  },
  {
   "cell_type": "markdown",
   "metadata": {},
   "source": [
    "This section includes the two authored Python Objects used with the predicting model developed further below on this notebook. The functionalities they provide were, at the time of the model's writting up (Nov 2019), inexistent within the main Machine Learning Library used - Scikit-learn, thus the reason for their adoption. Author and source links are provided next. "
   ]
  },
  {
   "cell_type": "markdown",
   "metadata": {},
   "source": [
    "### 2.1 \"Multilabel split train/test\" by Peter Brun (DrivenData)\n",
    "Sourced in 27-11-2019 from: https://github.com/drivendataorg/box-plots-sklearn/blob/master/src/data/multilabel.py"
   ]
  },
  {
   "cell_type": "code",
   "execution_count": 11,
   "metadata": {},
   "outputs": [],
   "source": [
    "from warnings import warn\n",
    "\n",
    "import numpy as np\n",
    "import pandas as pd\n",
    "\n",
    "def multilabel_sample(y, size=1000, min_count=5, seed=None):\n",
    "    \"\"\" Takes a matrix of binary labels `y` and returns\n",
    "        the indices for a sample of size `size` if\n",
    "        `size` > 1 or `size` * len(y) if size =< 1.\n",
    "\n",
    "        The sample is guaranteed to have > `min_count` of\n",
    "        each label.\n",
    "    \"\"\"\n",
    "    try:\n",
    "        if (np.unique(y).astype(int) != np.array([0, 1])).any():\n",
    "            raise ValueError()\n",
    "    except (TypeError, ValueError):\n",
    "        raise ValueError('multilabel_sample only works with binary indicator matrices')\n",
    "\n",
    "    if (y.sum(axis=0) < min_count).any():\n",
    "        raise ValueError('Some classes do not have enough examples. Change min_count if necessary.')\n",
    "\n",
    "    if size <= 1:\n",
    "        size = np.floor(y.shape[0] * size)\n",
    "\n",
    "    if y.shape[1] * min_count > size:\n",
    "        msg = \"Size less than number of columns * min_count, returning {} items instead of {}.\"\n",
    "        warn(msg.format(y.shape[1] * min_count, size))\n",
    "        size = y.shape[1] * min_count\n",
    "\n",
    "    rng = np.random.RandomState(seed if seed is not None else np.random.randint(1))\n",
    "\n",
    "    if isinstance(y, pd.DataFrame):\n",
    "        choices = y.index\n",
    "        y = y.values\n",
    "    else:\n",
    "        choices = np.arange(y.shape[0])\n",
    "\n",
    "    sample_idxs = np.array([], dtype=choices.dtype)\n",
    "\n",
    "    # first, guarantee > min_count of each label\n",
    "    for j in range(y.shape[1]):\n",
    "        label_choices = choices[y[:, j] == 1]\n",
    "        label_idxs_sampled = rng.choice(label_choices, size=min_count, replace=False)\n",
    "        sample_idxs = np.concatenate([label_idxs_sampled, sample_idxs])\n",
    "\n",
    "    sample_idxs = np.unique(sample_idxs)\n",
    "\n",
    "    # now that we have at least min_count of each, we can just random sample\n",
    "    sample_count = int(size - sample_idxs.shape[0])\n",
    "\n",
    "    # get sample_count indices from remaining choices\n",
    "    remaining_choices = np.setdiff1d(choices, sample_idxs)\n",
    "    remaining_sampled = rng.choice(remaining_choices,\n",
    "                                   size=sample_count,\n",
    "                                   replace=False)\n",
    "\n",
    "    return np.concatenate([sample_idxs, remaining_sampled])\n",
    "\n",
    "\n",
    "def multilabel_sample_dataframe(df, labels, size, min_count=5, seed=None):\n",
    "    \"\"\" Takes a dataframe `df` and returns a sample of size `size` where all\n",
    "        classes in the binary matrix `labels` are represented at\n",
    "        least `min_count` times.\n",
    "    \"\"\"\n",
    "    idxs = multilabel_sample(labels, size=size, min_count=min_count, seed=seed)\n",
    "    return df.loc[idxs]\n",
    "\n",
    "\n",
    "def multilabel_train_test_split(X, Y, size, min_count=5, seed=None):\n",
    "    \"\"\" Takes a features matrix `X` and a label matrix `Y` and\n",
    "        returns (X_train, X_test, Y_train, Y_test) where all\n",
    "        classes in Y are represented at least `min_count` times.\n",
    "    \"\"\"\n",
    "    index = Y.index if isinstance(Y, pd.DataFrame) else np.arange(Y.shape[0])\n",
    "\n",
    "    test_set_idxs = multilabel_sample(Y, size=size, min_count=min_count, seed=seed)\n",
    "    train_set_idxs = np.setdiff1d(index, test_set_idxs)\n",
    "\n",
    "    test_set_mask = index.isin(test_set_idxs)\n",
    "    train_set_mask = ~test_set_mask\n",
    "\n",
    "    return (X[train_set_mask], X[test_set_mask], Y[train_set_mask], Y[test_set_mask])"
   ]
  },
  {
   "cell_type": "markdown",
   "metadata": {},
   "source": [
    "### 2.2 \"Sparse Interactions\" by Peter Brun (DrivenData)\n",
    "Sourced in 27-11-2019 from: https://github.com/drivendataorg/box-plots-sklearn/blob/master/src/features/SparseInteractions.py"
   ]
  },
  {
   "cell_type": "code",
   "execution_count": 12,
   "metadata": {},
   "outputs": [],
   "source": [
    "from itertools import combinations\n",
    "\n",
    "import numpy as np\n",
    "from scipy import sparse\n",
    "from sklearn.base import BaseEstimator, TransformerMixin\n",
    "\n",
    "\n",
    "class SparseInteractions(BaseEstimator, TransformerMixin):\n",
    "    def __init__(self, degree=2, feature_name_separator=\"_\"):\n",
    "        self.degree = degree\n",
    "        self.feature_name_separator = feature_name_separator\n",
    "\n",
    "    def fit(self, X, y=None):\n",
    "        return self\n",
    "\n",
    "    def transform(self, X):\n",
    "        if not sparse.isspmatrix_csc(X):\n",
    "            X = sparse.csc_matrix(X)\n",
    "\n",
    "        if hasattr(X, \"columns\"):\n",
    "            self.orig_col_names = X.columns\n",
    "        else:\n",
    "            self.orig_col_names = np.array([str(i) for i in range(X.shape[1])])\n",
    "\n",
    "        spi = self._create_sparse_interactions(X)\n",
    "        return spi\n",
    "\n",
    "    def get_feature_names(self):\n",
    "        return self.feature_names\n",
    "\n",
    "    def _create_sparse_interactions(self, X):\n",
    "        out_mat = []\n",
    "        self.feature_names = self.orig_col_names.tolist()\n",
    "\n",
    "        for sub_degree in range(2, self.degree + 1):\n",
    "            for col_ixs in combinations(range(X.shape[1]), sub_degree):\n",
    "                # add name for new column\n",
    "                name = self.feature_name_separator.join(self.orig_col_names[list(col_ixs)])\n",
    "                self.feature_names.append(name)\n",
    "\n",
    "                # get column multiplications value\n",
    "                out = X[:, col_ixs[0]]\n",
    "                for j in col_ixs[1:]:\n",
    "                    out = out.multiply(X[:, j])\n",
    "\n",
    "                out_mat.append(out)\n",
    "\n",
    "        return sparse.hstack([X] + out_mat)"
   ]
  },
  {
   "cell_type": "markdown",
   "metadata": {},
   "source": [
    "## 3. DATASET SPLIT TRAIN/TEST"
   ]
  },
  {
   "cell_type": "code",
   "execution_count": 75,
   "metadata": {},
   "outputs": [],
   "source": [
    "# Making use of the imported python object identified on point 2.1, spliting the data into\n",
    "# into two sets: \"train\" data (0.8) and \"test\" data (0.2)\n",
    "X_train, X_test, y_train, y_test = multilabel_train_test_split(X, y, size=0.2, seed=123)"
   ]
  },
  {
   "cell_type": "code",
   "execution_count": 76,
   "metadata": {},
   "outputs": [
    {
     "name": "stdout",
     "output_type": "stream",
     "text": [
      "X_train: (14950, 1) \t X_test: (3737, 1)\n",
      "y_train: (14950, 24) \t y_test: (3737, 24)\n"
     ]
    }
   ],
   "source": [
    "# Checking output shapes \n",
    "print('X_train:', X_train.shape, '\\t', 'X_test:', X_test.shape)\n",
    "print('y_train:', y_train.shape, '\\t', 'y_test:', y_test.shape)"
   ]
  },
  {
   "cell_type": "code",
   "execution_count": 77,
   "metadata": {
    "collapsed": true,
    "jupyter": {
     "outputs_hidden": true
    }
   },
   "outputs": [
    {
     "name": "stdout",
     "output_type": "stream",
     "text": [
      "[0 1] \t (14301, 649)\n",
      "[0 1] \t (13618, 1332)\n",
      "[0 1] \t (13822, 1128)\n",
      "[0 1] \t (13032, 1918)\n",
      "[0 1] \t (12849, 2101)\n",
      "[0 1] \t (14024, 926)\n",
      "[0 1] \t (13671, 1279)\n",
      "[0 1] \t (12256, 2694)\n",
      "[0 1] \t (14709, 241)\n",
      "[0 1] \t (13136, 1814)\n",
      "[0 1] \t (13015, 1935)\n",
      "[0 1] \t (14295, 655)\n",
      "[0 1] \t (14265, 685)\n",
      "[0 1] \t (13511, 1439)\n",
      "[0 1] \t (12916, 2034)\n",
      "[0 1] \t (13681, 1269)\n",
      "[0 1] \t (13085, 1865)\n",
      "[0 1] \t (13721, 1229)\n",
      "[0 1] \t (14095, 855)\n",
      "[0 1] \t (14686, 264)\n",
      "[0 1] \t (12346, 2604)\n",
      "[0 1] \t (7892, 7058)\n",
      "[0 1] \t (8599, 6351)\n",
      "[0 1] \t (13664, 1286)\n"
     ]
    }
   ],
   "source": [
    "# Checking unique values and their frequency\n",
    "for col in list(y_train):\n",
    "        print(np.sort(y_train[col].unique()), '\\t', tuple(y_train[col].value_counts()))"
   ]
  },
  {
   "cell_type": "code",
   "execution_count": 78,
   "metadata": {
    "collapsed": true,
    "jupyter": {
     "outputs_hidden": true
    }
   },
   "outputs": [
    {
     "name": "stdout",
     "output_type": "stream",
     "text": [
      "[0 1] \t (3602, 135)\n",
      "[0 1] \t (3406, 331)\n",
      "[0 1] \t (3470, 267)\n",
      "[0 1] \t (3237, 500)\n",
      "[0 1] \t (3196, 541)\n",
      "[0 1] \t (3489, 248)\n",
      "[0 1] \t (3409, 328)\n",
      "[0 1] \t (3034, 703)\n",
      "[0 1] \t (3672, 65)\n",
      "[0 1] \t (3261, 476)\n",
      "[0 1] \t (3253, 484)\n",
      "[0 1] \t (3573, 164)\n",
      "[0 1] \t (3547, 190)\n",
      "[0 1] \t (3383, 354)\n",
      "[0 1] \t (3191, 546)\n",
      "[0 1] \t (3392, 345)\n",
      "[0 1] \t (3279, 458)\n",
      "[0 1] \t (3424, 313)\n",
      "[0 1] \t (3526, 211)\n",
      "[0 1] \t (3666, 71)\n",
      "[0 1] \t (3065, 672)\n",
      "[0 1] \t (1990, 1747)\n",
      "[0 1] \t (2129, 1608)\n",
      "[0 1] \t (3404, 333)\n"
     ]
    }
   ],
   "source": [
    "for col in list(y_test):\n",
    "        print(np.sort(y_test[col].unique()), '\\t', tuple(y_test[col].value_counts()))"
   ]
  },
  {
   "cell_type": "markdown",
   "metadata": {},
   "source": [
    "## 4. \"TOKENIZATION\" COMPARISON"
   ]
  },
  {
   "cell_type": "code",
   "execution_count": 17,
   "metadata": {},
   "outputs": [],
   "source": [
    "# Importing \"time\" package to allow measure computational times\n",
    "from time import time"
   ]
  },
  {
   "cell_type": "code",
   "execution_count": 18,
   "metadata": {},
   "outputs": [],
   "source": [
    "# Importing \"Vectorizers\"\n",
    "from sklearn.feature_extraction.text import HashingVectorizer\n",
    "from sklearn.feature_extraction.text import CountVectorizer\n",
    "from sklearn.feature_extraction.text import TfidfVectorizer"
   ]
  },
  {
   "cell_type": "code",
   "execution_count": 19,
   "metadata": {},
   "outputs": [],
   "source": [
    "# Optional: regularization expression for token extraction\n",
    "tokenpattern = '[A-Za-z0-9]+(?=\\\\s+)'"
   ]
  },
  {
   "cell_type": "code",
   "execution_count": 20,
   "metadata": {},
   "outputs": [],
   "source": [
    "# Number of token IDs to print for inspection\n",
    "n_tokens = 10"
   ]
  },
  {
   "cell_type": "markdown",
   "metadata": {},
   "source": [
    "### 4.1 \"CountVectoriser\""
   ]
  },
  {
   "cell_type": "code",
   "execution_count": 21,
   "metadata": {},
   "outputs": [
    {
     "name": "stdout",
     "output_type": "stream",
     "text": [
      "Number of tokens: 78606\n",
      "Time to vectorize: 6.8535637855529785\n",
      "First 10 tokens: ['00', '000', '0000', '00000', '00001', '000012009_20050505091603', '000090341_20050414100428', '000090341_20061122101801', '0001', '00011']\n",
      "Middle 10 tokens: ['isf', 'isfahani', 'isfandyar', 'isfs', 'isg', 'isgac', 'isgei', 'isgis', 'isgoldmansachsinvestmentbank', 'isgss']\n",
      "Last 10 tokens: ['zvidrina', 'zviniene', 'zw', 'zwaan', 'zwager', 'zweig', 'zylberberg', 'zyra', 'zz', 'zzeng']\n"
     ]
    }
   ],
   "source": [
    "# \"Tokenising\" train data (with timing)\n",
    "t0 = time()\n",
    "c_vec = CountVectorizer(stop_words='english')\n",
    "c_v_X_train = c_vec.fit_transform(X_train.doc_text)\n",
    "Duration = time() - t0\n",
    "\n",
    "# Cheking the number of token IDs obtained and the time taken to do it\n",
    "print('Number of tokens:', len(c_vec.get_feature_names()))\n",
    "print('Time to vectorize:', Duration)\n",
    "\n",
    "# Inspecting token IDs obtained \n",
    "print('First ' + str(n_tokens) + ' tokens:', c_vec.get_feature_names()[:n_tokens])\n",
    "c_vec_tot_token = len(c_vec.get_feature_names())\n",
    "c_vec_mid_token = round(c_vec_tot_token / 2)\n",
    "print('Middle ' + str(n_tokens) + ' tokens:', c_vec.get_feature_names()[c_vec_mid_token : c_vec_mid_token+n_tokens])\n",
    "print('Last ' + str(n_tokens) + ' tokens:', c_vec.get_feature_names()[-n_tokens:])"
   ]
  },
  {
   "cell_type": "code",
   "execution_count": 22,
   "metadata": {},
   "outputs": [],
   "source": [
    "# Applying the \"tokenization\" obtained to the \"test\" data\n",
    "c_v_X_test = c_vec.transform(X_test.doc_text)"
   ]
  },
  {
   "cell_type": "markdown",
   "metadata": {},
   "source": [
    "### 4.2 \"Tf-idf\""
   ]
  },
  {
   "cell_type": "code",
   "execution_count": 23,
   "metadata": {},
   "outputs": [
    {
     "name": "stdout",
     "output_type": "stream",
     "text": [
      "Number of tokens: 78606\n",
      "Time to vectorize: 10.589540004730225\n",
      "First 10 tokens: ['00', '000', '0000', '00000', '00001', '000012009_20050505091603', '000090341_20050414100428', '000090341_20061122101801', '0001', '00011']\n",
      "Middle 10 tokens: ['isf', 'isfahani', 'isfandyar', 'isfs', 'isg', 'isgac', 'isgei', 'isgis', 'isgoldmansachsinvestmentbank', 'isgss']\n",
      "Last 10 tokens: ['zvidrina', 'zviniene', 'zw', 'zwaan', 'zwager', 'zweig', 'zylberberg', 'zyra', 'zz', 'zzeng']\n"
     ]
    }
   ],
   "source": [
    "# \"Tokenising\" train data (with timing)\n",
    "t0 = time()\n",
    "tfidf_vec = TfidfVectorizer(stop_words='english')\n",
    "tfidf_X_train = tfidf_vec.fit_transform(X_train.doc_text)\n",
    "Duration = time() - t0\n",
    "\n",
    "# Cheking the number of token IDs obtained and the time taken to do it\n",
    "print('Number of tokens:', len(tfidf_vec.get_feature_names()))\n",
    "print('Time to vectorize:', Duration)\n",
    "\n",
    "# Inspecting token IDs obtained \n",
    "print('First ' + str(n_tokens) + ' tokens:', tfidf_vec.get_feature_names()[:n_tokens])\n",
    "tfidf_vec_tot_token = len(tfidf_vec.get_feature_names())\n",
    "tfidf_vec_mid_token = round(tfidf_vec_tot_token / 2)\n",
    "print('Middle ' + str(n_tokens) + ' tokens:', tfidf_vec.get_feature_names()[tfidf_vec_mid_token : tfidf_vec_mid_token+n_tokens])\n",
    "print('Last ' + str(n_tokens) + ' tokens:', tfidf_vec.get_feature_names()[-n_tokens:])"
   ]
  },
  {
   "cell_type": "code",
   "execution_count": 24,
   "metadata": {},
   "outputs": [],
   "source": [
    "# Applying the \"tokenization\" obtained to the \"test\" data\n",
    "tfidf_X_test = tfidf_vec.transform(X_test.doc_text)"
   ]
  },
  {
   "cell_type": "markdown",
   "metadata": {},
   "source": [
    "### 4.3 \"HashingVectorizer\""
   ]
  },
  {
   "cell_type": "code",
   "execution_count": 25,
   "metadata": {},
   "outputs": [
    {
     "name": "stdout",
     "output_type": "stream",
     "text": [
      "Time to vectorize: 10.985121250152588\n"
     ]
    }
   ],
   "source": [
    "# \"Tokenising\" train data (with timing)\n",
    "t0 = time()\n",
    "hv_vec = HashingVectorizer(alternate_sign = False, stop_words='english', ngram_range = (1, 2))\n",
    "hv_X_train = hv_vec.fit_transform(X_train.doc_text)\n",
    "Duration = time() - t0\n",
    "print('Time to vectorize:', Duration)"
   ]
  },
  {
   "cell_type": "code",
   "execution_count": 26,
   "metadata": {},
   "outputs": [
    {
     "name": "stdout",
     "output_type": "stream",
     "text": [
      "Sparse Matrix size: (1869, 1048576)\n"
     ]
    }
   ],
   "source": [
    "# Ckecking output shape\n",
    "print('Sparse Matrix size:', hv_X_train.shape)"
   ]
  },
  {
   "cell_type": "code",
   "execution_count": 27,
   "metadata": {},
   "outputs": [],
   "source": [
    "# Applying the \"tokenization\" obtained to the \"test\" data\n",
    "hv_X_test = hv_vec.transform(X_test.doc_text)"
   ]
  },
  {
   "cell_type": "code",
   "execution_count": 28,
   "metadata": {},
   "outputs": [
    {
     "data": {
      "text/plain": [
       "{'alternate_sign': False,\n",
       " 'analyzer': 'word',\n",
       " 'binary': False,\n",
       " 'decode_error': 'strict',\n",
       " 'dtype': numpy.float64,\n",
       " 'encoding': 'utf-8',\n",
       " 'input': 'content',\n",
       " 'lowercase': True,\n",
       " 'n_features': 1048576,\n",
       " 'ngram_range': (1, 2),\n",
       " 'norm': 'l2',\n",
       " 'preprocessor': None,\n",
       " 'stop_words': 'english',\n",
       " 'strip_accents': None,\n",
       " 'token_pattern': '(?u)\\\\b\\\\w\\\\w+\\\\b',\n",
       " 'tokenizer': None}"
      ]
     },
     "execution_count": 28,
     "metadata": {},
     "output_type": "execute_result"
    }
   ],
   "source": [
    "# Checking HashingVectorizer parameters\n",
    "hv_vec.get_params()"
   ]
  },
  {
   "cell_type": "markdown",
   "metadata": {},
   "source": [
    "## 5. MODEL TRAINING"
   ]
  },
  {
   "cell_type": "markdown",
   "metadata": {},
   "source": [
    "### 5.1 DIMENSIONALITY REDUCTION"
   ]
  },
  {
   "cell_type": "code",
   "execution_count": 31,
   "metadata": {},
   "outputs": [],
   "source": [
    "# Packages for dimensionality reduction\n",
    "from sklearn.feature_selection import chi2, SelectKBest\n",
    "from sklearn.preprocessing import MaxAbsScaler"
   ]
  },
  {
   "cell_type": "code",
   "execution_count": 74,
   "metadata": {},
   "outputs": [],
   "source": [
    "# Number of best features to consider\n",
    "chi_k = 1200"
   ]
  },
  {
   "cell_type": "markdown",
   "metadata": {},
   "source": [
    "### 5.2 PIPELINES"
   ]
  },
  {
   "cell_type": "code",
   "execution_count": 55,
   "metadata": {},
   "outputs": [],
   "source": [
    "# Packages for training pipelines\n",
    "from sklearn.linear_model import LogisticRegression\n",
    "from sklearn.multiclass import OneVsRestClassifier\n",
    "from sklearn.pipeline import Pipeline\n",
    "from sklearn.metrics import f1_score, accuracy_score"
   ]
  },
  {
   "cell_type": "markdown",
   "metadata": {},
   "source": [
    "### 5.2.1 \"CountVectoriser\""
   ]
  },
  {
   "cell_type": "code",
   "execution_count": 67,
   "metadata": {},
   "outputs": [
    {
     "name": "stdout",
     "output_type": "stream",
     "text": [
      "Time to train CV: 30.29857039451599\n",
      "Time to predict CV: 59.1119544506073\n",
      "CV Accuracy: 0.1907480080865739\n",
      "CV Micro_f1: 0.5288633161108501\n"
     ]
    }
   ],
   "source": [
    "# Instantiate the pipeline\n",
    "pl_cv = Pipeline([\n",
    "        ('cv_vectorizer', CountVectorizer(stop_words='english')),\n",
    "        ('cv_dim_red', SelectKBest(chi2, chi_k)),\n",
    "        ('cv_int', SparseInteractions(degree=2)),\n",
    "        ('cv_scale', MaxAbsScaler()),\n",
    "        ('cv_clf', OneVsRestClassifier(LogisticRegression(solver = 'liblinear', max_iter=100)))\n",
    "    ])\n",
    "\n",
    "# Train the model\n",
    "t0 = time()\n",
    "pl_cv.fit(X_train.doc_text, y_train)\n",
    "print('Time to train CV:', time() - t0)\n",
    "\n",
    "# Measure model performance\n",
    "t0 = time()\n",
    "pcv_pred = pl_cv.predict(X_test.doc_text)\n",
    "print('Time to predict CV:', time() - t0)\n",
    "print(\"CV Accuracy: {}\".format(accuracy_score(y_test, pcv_pred)))\n",
    "print(\"CV Micro_f1: {}\".format(f1_score(y_test, pcv_pred, average='micro')))"
   ]
  },
  {
   "cell_type": "markdown",
   "metadata": {},
   "source": [
    "### 5.2.2 \"TfidfVectoriser\""
   ]
  },
  {
   "cell_type": "code",
   "execution_count": 68,
   "metadata": {},
   "outputs": [
    {
     "name": "stdout",
     "output_type": "stream",
     "text": [
      "Time to train Tf-idf: 26.61548376083374\n",
      "Time to predict Tf-idf: 48.99873757362366\n",
      "CV Accuracy: 0.18503983826852183\n",
      "CV Micro_f1: 0.5074000284616479\n"
     ]
    }
   ],
   "source": [
    "# Instantiate the pipeline\n",
    "pl_tfidf = Pipeline([\n",
    "            ('tfidf_vectorizer', TfidfVectorizer(stop_words='english')),\n",
    "            ('tfidf_dim_red', SelectKBest(chi2, chi_k)),\n",
    "            ('tfidf_int', SparseInteractions(degree=2)),\n",
    "            ('tfidf_scale', MaxAbsScaler()),\n",
    "            ('tfidf_clf', OneVsRestClassifier(LogisticRegression(solver = 'liblinear', max_iter=100)))\n",
    "        ])\n",
    "\n",
    "# Train the model\n",
    "t0 = time()\n",
    "pl_tfidf.fit(X_train.doc_text, y_train)\n",
    "print('Time to train Tf-idf:', time() - t0)\n",
    "\n",
    "# Measure model performance\n",
    "t0 = time()\n",
    "tfidf_pred = pl_tfidf.predict(X_test.doc_text)\n",
    "print('Time to predict Tf-idf:', time()-t0)\n",
    "print(\"CV Accuracy: {}\".format(accuracy_score(y_test, tfidf_pred,)))\n",
    "print(\"CV Micro_f1: {}\".format(f1_score(y_test, tfidf_pred, average='micro')))"
   ]
  },
  {
   "cell_type": "markdown",
   "metadata": {},
   "source": [
    "### 5.2.3 \"HashingVectorizer\""
   ]
  },
  {
   "cell_type": "code",
   "execution_count": 79,
   "metadata": {},
   "outputs": [
    {
     "name": "stdout",
     "output_type": "stream",
     "text": [
      "Time to train HV: 3746.2212569713593\n",
      "Time to predict HV: 294.26678371429443\n",
      "CV Accuracy: 0.27963607171527965\n",
      "HV Micro_f1: 0.6391504498849132\n"
     ]
    }
   ],
   "source": [
    "# Instantiate the pipeline\n",
    "hv_pl = Pipeline([\n",
    "        ('hv_vectorizer', HashingVectorizer(alternate_sign = False, stop_words='english', ngram_range=(1, 2))),\n",
    "        ('hv_dim_red', SelectKBest(chi2, chi_k)),\n",
    "        ('hv_int', SparseInteractions(degree=2)),\n",
    "        ('hv_scale', MaxAbsScaler()),\n",
    "        ('hv_clf', OneVsRestClassifier(LogisticRegression(solver = 'liblinear', max_iter=100)))\n",
    "    ])\n",
    "\n",
    "# Train the model\n",
    "t0 = time()\n",
    "hv_pl.fit(X_train.doc_text, y_train)\n",
    "print('Time to train HV:', time() - t0)\n",
    "\n",
    "# Measure model performance\n",
    "t0 = time()\n",
    "phv_pred = hv_pl.predict(X_test.doc_text)\n",
    "print('Time to predict HV:', time() - t0)\n",
    "print(\"CV Accuracy: {}\".format(accuracy_score(y_test, phv_pred)))\n",
    "print(\"HV Micro_f1: {}\".format(f1_score(y_test, phv_pred, average='micro')))"
   ]
  },
  {
   "cell_type": "markdown",
   "metadata": {},
   "source": [
    "## 6. COMPETITION HANDOUT FILE"
   ]
  },
  {
   "cell_type": "code",
   "execution_count": 80,
   "metadata": {},
   "outputs": [
    {
     "name": "stdout",
     "output_type": "stream",
     "text": [
      "Time to predict: 437.69395184516907\n"
     ]
    }
   ],
   "source": [
    "# Predict the competition handout file \n",
    "t0 = time()\n",
    "cmptt_pred = hv_pl.predict(X_cmptt_pred.doc_text)\n",
    "print('Time to predict:', time() - t0)"
   ]
  },
  {
   "cell_type": "code",
   "execution_count": 81,
   "metadata": {},
   "outputs": [
    {
     "data": {
      "text/plain": [
       "(18699, 24)"
      ]
     },
     "execution_count": 81,
     "metadata": {},
     "output_type": "execute_result"
    }
   ],
   "source": [
    "# Check output shape\n",
    "cmptt_pred.shape"
   ]
  },
  {
   "cell_type": "code",
   "execution_count": 82,
   "metadata": {},
   "outputs": [
    {
     "data": {
      "text/plain": [
       "numpy.ndarray"
      ]
     },
     "execution_count": 82,
     "metadata": {},
     "output_type": "execute_result"
    }
   ],
   "source": [
    "# Check output type\n",
    "type(cmptt_pred)"
   ]
  },
  {
   "cell_type": "code",
   "execution_count": 83,
   "metadata": {},
   "outputs": [],
   "source": [
    "# Save output as a \"csv\" file (Competition submission requirements)\n",
    "np.savetxt('cmptt_pred.csv', cmptt_pred, delimiter=',')"
   ]
  },
  {
   "cell_type": "code",
   "execution_count": null,
   "metadata": {},
   "outputs": [],
   "source": []
  }
 ],
 "metadata": {
  "file_extension": ".py",
  "kernelspec": {
   "display_name": "Python [conda env:root] *",
   "language": "python",
   "name": "conda-root-py"
  },
  "language_info": {
   "codemirror_mode": {
    "name": "ipython",
    "version": 3
   },
   "file_extension": ".py",
   "mimetype": "text/x-python",
   "name": "python",
   "nbconvert_exporter": "python",
   "pygments_lexer": "ipython3",
   "version": "3.7.5"
  },
  "mimetype": "text/x-python",
  "name": "python",
  "npconvert_exporter": "python",
  "pygments_lexer": "ipython3",
  "version": 3
 },
 "nbformat": 4,
 "nbformat_minor": 4
}
